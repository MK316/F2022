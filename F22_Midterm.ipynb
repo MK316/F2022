{
  "nbformat": 4,
  "nbformat_minor": 0,
  "metadata": {
    "colab": {
      "provenance": [],
      "authorship_tag": "ABX9TyMuyUgzQD3jT6YoLGnkoCca",
      "include_colab_link": true
    },
    "kernelspec": {
      "name": "python3",
      "display_name": "Python 3"
    },
    "language_info": {
      "name": "python"
    }
  },
  "cells": [
    {
      "cell_type": "markdown",
      "metadata": {
        "id": "view-in-github",
        "colab_type": "text"
      },
      "source": [
        "<a href=\"https://colab.research.google.com/github/MK316/F2022/blob/main/F22_Midterm.ipynb\" target=\"_parent\"><img src=\"https://colab.research.google.com/assets/colab-badge.svg\" alt=\"Open In Colab\"/></a>"
      ]
    },
    {
      "cell_type": "markdown",
      "source": [
        "#F2022 Phonology midterm results\n",
        "#F2022 Phonetics midterm results"
      ],
      "metadata": {
        "id": "ynNggMIKMcmq"
      }
    },
    {
      "cell_type": "code",
      "execution_count": 1,
      "metadata": {
        "id": "sGrpK2QQKUJ8"
      },
      "outputs": [],
      "source": [
        "import pandas as pd\n",
        "import os\n",
        "import matplotlib.pyplot as plt"
      ]
    },
    {
      "cell_type": "code",
      "source": [
        "url_01 = \"https://raw.githubusercontent.com/MK316/Fall2022/main/data22F.csv\"\n",
        "df1 = pd.read_csv(url_01)\n",
        "\n",
        "url_02 = \"https://raw.githubusercontent.com/MK316/F2022/main/22FM_Phonetics.csv\"\n",
        "df2 = pd.read_csv(url_02)"
      ],
      "metadata": {
        "id": "9rzLKGF6Mij2"
      },
      "execution_count": 2,
      "outputs": []
    },
    {
      "cell_type": "code",
      "source": [
        "df2['Midterm'].describe()"
      ],
      "metadata": {
        "colab": {
          "base_uri": "https://localhost:8080/"
        },
        "id": "2tvNgWu_M1Cj",
        "outputId": "acb62810-fcae-4745-b802-28cbda1456ad"
      },
      "execution_count": 24,
      "outputs": [
        {
          "output_type": "execute_result",
          "data": {
            "text/plain": [
              "count    30.000000\n",
              "mean     57.930000\n",
              "std      14.984685\n",
              "min      18.300000\n",
              "25%      51.675000\n",
              "50%      57.750000\n",
              "75%      67.375000\n",
              "max      81.900000\n",
              "Name: Midterm, dtype: float64"
            ]
          },
          "metadata": {},
          "execution_count": 24
        }
      ]
    },
    {
      "cell_type": "code",
      "source": [
        "data = df2[\"Midterm\"]\n",
        "plt.boxplot(data)"
      ],
      "metadata": {
        "colab": {
          "base_uri": "https://localhost:8080/",
          "height": 407
        },
        "id": "fgfpYR1gM92D",
        "outputId": "6b4ae929-33c3-47f8-c386-7f353277160f"
      },
      "execution_count": 4,
      "outputs": [
        {
          "output_type": "execute_result",
          "data": {
            "text/plain": [
              "{'whiskers': [<matplotlib.lines.Line2D at 0x7f89267025d0>,\n",
              "  <matplotlib.lines.Line2D at 0x7f8926702b10>],\n",
              " 'caps': [<matplotlib.lines.Line2D at 0x7f892670d090>,\n",
              "  <matplotlib.lines.Line2D at 0x7f892670d5d0>],\n",
              " 'boxes': [<matplotlib.lines.Line2D at 0x7f89266f1fd0>],\n",
              " 'medians': [<matplotlib.lines.Line2D at 0x7f892670db50>],\n",
              " 'fliers': [<matplotlib.lines.Line2D at 0x7f89267140d0>],\n",
              " 'means': []}"
            ]
          },
          "metadata": {},
          "execution_count": 4
        },
        {
          "output_type": "display_data",
          "data": {
            "text/plain": [
              "<Figure size 432x288 with 1 Axes>"
            ],
            "image/png": "[encoded data removed]"
          },
          "metadata": {
            "needs_background": "light"
          }
        }
      ]
    },
    {
      "cell_type": "code",
      "source": [
        "d1 = df2.sort_values(by=['Midterm'], ascending = False)\n",
        "ID = range(1,31); d1['ID'] = ID; d1['Midterm'].head()"
      ],
      "metadata": {
        "colab": {
          "base_uri": "https://localhost:8080/"
        },
        "id": "GWknoYuqNZW6",
        "outputId": "ca751cd9-8f62-4ae2-f329-07b3437e65f3"
      },
      "execution_count": 26,
      "outputs": [
        {
          "output_type": "execute_result",
          "data": {
            "text/plain": [
              "9     81.9\n",
              "12    79.8\n",
              "29    77.6\n",
              "22    76.0\n",
              "8     74.1\n",
              "Name: Midterm, dtype: float64"
            ]
          },
          "metadata": {},
          "execution_count": 26
        }
      ]
    },
    {
      "cell_type": "code",
      "source": [
        "d1['Midterm'].hist()"
      ],
      "metadata": {
        "colab": {
          "base_uri": "https://localhost:8080/",
          "height": 283
        },
        "id": "4yapepymQgUU",
        "outputId": "0521c559-e795-41cd-a1ce-1b6fbd282518"
      },
      "execution_count": 7,
      "outputs": [
        {
          "output_type": "execute_result",
          "data": {
            "text/plain": [
              "<matplotlib.axes._subplots.AxesSubplot at 0x7f89257558d0>"
            ]
          },
          "metadata": {},
          "execution_count": 7
        },
        {
          "output_type": "display_data",
          "data": {
            "text/plain": [
              "<Figure size 432x288 with 1 Axes>"
            ],
            "image/png": "[encoded data removed]"
          },
          "metadata": {
            "needs_background": "light"
          }
        }
      ]
    },
    {
      "cell_type": "code",
      "source": [
        "d1.plot(x='ID', y='Midterm', style='.')"
      ],
      "metadata": {
        "colab": {
          "base_uri": "https://localhost:8080/",
          "height": 297
        },
        "id": "z_xfiSHpP9d3",
        "outputId": "c4155d6a-73c4-4a68-9670-44f95257a15a"
      },
      "execution_count": 8,
      "outputs": [
        {
          "output_type": "execute_result",
          "data": {
            "text/plain": [
              "<matplotlib.axes._subplots.AxesSubplot at 0x7f89256aec90>"
            ]
          },
          "metadata": {},
          "execution_count": 8
        },
        {
          "output_type": "display_data",
          "data": {
            "text/plain": [
              "<Figure size 432x288 with 1 Axes>"
            ],
            "image/png": "[encoded data removed]"
          },
          "metadata": {
            "needs_background": "light"
          }
        }
      ]
    },
    {
      "cell_type": "code",
      "source": [
        "d1.groupby('Group')['Midterm'].describe()"
      ],
      "metadata": {
        "id": "7OXpq4dRdjc3",
        "outputId": "51b9669a-fe79-43d7-f805-3689d6d6eb4a",
        "colab": {
          "base_uri": "https://localhost:8080/",
          "height": 332
        }
      },
      "execution_count": 12,
      "outputs": [
        {
          "output_type": "execute_result",
          "data": {
            "text/plain": [
              "       count    mean        std   min     25%    50%     75%   max\n",
              "Group                                                             \n",
              "A        1.0  77.600        NaN  77.6  77.600  77.60  77.600  77.6\n",
              "G1       4.0  45.500  17.758941  20.1  39.825  52.00  57.675  57.9\n",
              "G2       4.0  54.875  25.516971  18.3  47.775  62.60  69.700  76.0\n",
              "G3       4.0  57.375  15.379938  39.1  47.800  58.70  68.275  73.0\n",
              "G4       4.0  55.600   8.170271  46.5  50.250  55.55  60.900  64.8\n",
              "G5       5.0  68.580  14.046601  52.2  54.900  74.10  79.800  81.9\n",
              "G6       4.0  60.775   7.713786  50.7  57.900  61.55  64.425  69.3\n",
              "G7       4.0  55.225   3.679108  52.2  52.575  54.25  56.900  60.2"
            ],
            "text/html": [
              "\n",
              "  <div id=\"df-b3d7771f-612e-44e2-af25-c5426b53b0ac\">\n",
              "    <div class=\"colab-df-container\">\n",
              "      <div>\n",
              "<style scoped>\n",
              "    .dataframe tbody tr th:only-of-type {\n",
              "        vertical-align: middle;\n",
              "    }\n",
              "\n",
              "    .dataframe tbody tr th {\n",
              "        vertical-align: top;\n",
              "    }\n",
              "\n",
              "    .dataframe thead th {\n",
              "        text-align: right;\n",
              "    }\n",
              "</style>\n",
              "<table border=\"1\" class=\"dataframe\">\n",
              "  <thead>\n",
              "    <tr style=\"text-align: right;\">\n",
              "      <th></th>\n",
              "      <th>count</th>\n",
              "      <th>mean</th>\n",
              "      <th>std</th>\n",
              "      <th>min</th>\n",
              "      <th>25%</th>\n",
              "      <th>50%</th>\n",
              "      <th>75%</th>\n",
              "      <th>max</th>\n",
              "    </tr>\n",
              "    <tr>\n",
              "      <th>Group</th>\n",
              "      <th></th>\n",
              "      <th></th>\n",
              "      <th></th>\n",
              "      <th></th>\n",
              "      <th></th>\n",
              "      <th></th>\n",
              "      <th></th>\n",
              "      <th></th>\n",
              "    </tr>\n",
              "  </thead>\n",
              "  <tbody>\n",
              "    <tr>\n",
              "      <th>A</th>\n",
              "      <td>1.0</td>\n",
              "      <td>77.600</td>\n",
              "      <td>NaN</td>\n",
              "      <td>77.6</td>\n",
              "      <td>77.600</td>\n",
              "      <td>77.60</td>\n",
              "      <td>77.600</td>\n",
              "      <td>77.6</td>\n",
              "    </tr>\n",
              "    <tr>\n",
              "      <th>G1</th>\n",
              "      <td>4.0</td>\n",
              "      <td>45.500</td>\n",
              "      <td>17.758941</td>\n",
              "      <td>20.1</td>\n",
              "      <td>39.825</td>\n",
              "      <td>52.00</td>\n",
              "      <td>57.675</td>\n",
              "      <td>57.9</td>\n",
              "    </tr>\n",
              "    <tr>\n",
              "      <th>G2</th>\n",
              "      <td>4.0</td>\n",
              "      <td>54.875</td>\n",
              "      <td>25.516971</td>\n",
              "      <td>18.3</td>\n",
              "      <td>47.775</td>\n",
              "      <td>62.60</td>\n",
              "      <td>69.700</td>\n",
              "      <td>76.0</td>\n",
              "    </tr>\n",
              "    <tr>\n",
              "      <th>G3</th>\n",
              "      <td>4.0</td>\n",
              "      <td>57.375</td>\n",
              "      <td>15.379938</td>\n",
              "      <td>39.1</td>\n",
              "      <td>47.800</td>\n",
              "      <td>58.70</td>\n",
              "      <td>68.275</td>\n",
              "      <td>73.0</td>\n",
              "    </tr>\n",
              "    <tr>\n",
              "      <th>G4</th>\n",
              "      <td>4.0</td>\n",
              "      <td>55.600</td>\n",
              "      <td>8.170271</td>\n",
              "      <td>46.5</td>\n",
              "      <td>50.250</td>\n",
              "      <td>55.55</td>\n",
              "      <td>60.900</td>\n",
              "      <td>64.8</td>\n",
              "    </tr>\n",
              "    <tr>\n",
              "      <th>G5</th>\n",
              "      <td>5.0</td>\n",
              "      <td>68.580</td>\n",
              "      <td>14.046601</td>\n",
              "      <td>52.2</td>\n",
              "      <td>54.900</td>\n",
              "      <td>74.10</td>\n",
              "      <td>79.800</td>\n",
              "      <td>81.9</td>\n",
              "    </tr>\n",
              "    <tr>\n",
              "      <th>G6</th>\n",
              "      <td>4.0</td>\n",
              "      <td>60.775</td>\n",
              "      <td>7.713786</td>\n",
              "      <td>50.7</td>\n",
              "      <td>57.900</td>\n",
              "      <td>61.55</td>\n",
              "      <td>64.425</td>\n",
              "      <td>69.3</td>\n",
              "    </tr>\n",
              "    <tr>\n",
              "      <th>G7</th>\n",
              "      <td>4.0</td>\n",
              "      <td>55.225</td>\n",
              "      <td>3.679108</td>\n",
              "      <td>52.2</td>\n",
              "      <td>52.575</td>\n",
              "      <td>54.25</td>\n",
              "      <td>56.900</td>\n",
              "      <td>60.2</td>\n",
              "    </tr>\n",
              "  </tbody>\n",
              "</table>\n",
              "</div>\n",
              "      <button class=\"colab-df-convert\" onclick=\"convertToInteractive('df-b3d7771f-612e-44e2-af25-c5426b53b0ac')\"\n",
              "              title=\"Convert this dataframe to an interactive table.\"\n",
              "              style=\"display:none;\">\n",
              "        \n",
              "  <svg xmlns=\"http://www.w3.org/2000/svg\" height=\"24px\"viewBox=\"0 0 24 24\"\n",
              "       width=\"24px\">\n",
              "    <path d=\"M0 0h24v24H0V0z\" fill=\"none\"/>\n",
              "    <path d=\"M18.56 5.44l.94 2.06.94-2.06 2.06-.94-2.06-.94-.94-2.06-.94 2.06-2.06.94zm-11 1L8.5 8.5l.94-2.06 2.06-.94-2.06-.94L8.5 2.5l-.94 2.06-2.06.94zm10 10l.94 2.06.94-2.06 2.06-.94-2.06-.94-.94-2.06-.94 2.06-2.06.94z\"/><path d=\"M17.41 7.96l-1.37-1.37c-.4-.4-.92-.59-1.43-.59-.52 0-1.04.2-1.43.59L10.3 9.45l-7.72 7.72c-.78.78-.78 2.05 0 2.83L4 21.41c.39.39.9.59 1.41.59.51 0 1.02-.2 1.41-.59l7.78-7.78 2.81-2.81c.8-.78.8-2.07 0-2.86zM5.41 20L4 18.59l7.72-7.72 1.47 1.35L5.41 20z\"/>\n",
              "  </svg>\n",
              "      </button>\n",
              "      \n",
              "  <style>\n",
              "    .colab-df-container {\n",
              "      display:flex;\n",
              "      flex-wrap:wrap;\n",
              "      gap: 12px;\n",
              "    }\n",
              "\n",
              "    .colab-df-convert {\n",
              "      background-color: #E8F0FE;\n",
              "      border: none;\n",
              "      border-radius: 50%;\n",
              "      cursor: pointer;\n",
              "      display: none;\n",
              "      fill: #1967D2;\n",
              "      height: 32px;\n",
              "      padding: 0 0 0 0;\n",
              "      width: 32px;\n",
              "    }\n",
              "\n",
              "    .colab-df-convert:hover {\n",
              "      background-color: #E2EBFA;\n",
              "      box-shadow: 0px 1px 2px rgba(60, 64, 67, 0.3), 0px 1px 3px 1px rgba(60, 64, 67, 0.15);\n",
              "      fill: #174EA6;\n",
              "    }\n",
              "\n",
              "    [theme=dark] .colab-df-convert {\n",
              "      background-color: #3B4455;\n",
              "      fill: #D2E3FC;\n",
              "    }\n",
              "\n",
              "    [theme=dark] .colab-df-convert:hover {\n",
              "      background-color: #434B5C;\n",
              "      box-shadow: 0px 1px 3px 1px rgba(0, 0, 0, 0.15);\n",
              "      filter: drop-shadow(0px 1px 2px rgba(0, 0, 0, 0.3));\n",
              "      fill: #FFFFFF;\n",
              "    }\n",
              "  </style>\n",
              "\n",
              "      <script>\n",
              "        const buttonEl =\n",
              "          document.querySelector('#df-b3d7771f-612e-44e2-af25-c5426b53b0ac button.colab-df-convert');\n",
              "        buttonEl.style.display =\n",
              "          google.colab.kernel.accessAllowed ? 'block' : 'none';\n",
              "\n",
              "        async function convertToInteractive(key) {\n",
              "          const element = document.querySelector('#df-b3d7771f-612e-44e2-af25-c5426b53b0ac');\n",
              "          const dataTable =\n",
              "            await google.colab.kernel.invokeFunction('convertToInteractive',\n",
              "                                                     [key], {});\n",
              "          if (!dataTable) return;\n",
              "\n",
              "          const docLinkHtml = 'Like what you see? Visit the ' +\n",
              "            '<a target=\"_blank\" href=https://colab.research.google.com/notebooks/data_table.ipynb>data table notebook</a>'\n",
              "            + ' to learn more about interactive tables.';\n",
              "          element.innerHTML = '';\n",
              "          dataTable['output_type'] = 'display_data';\n",
              "          await google.colab.output.renderOutput(dataTable, element);\n",
              "          const docLink = document.createElement('div');\n",
              "          docLink.innerHTML = docLinkHtml;\n",
              "          element.appendChild(docLink);\n",
              "        }\n",
              "      </script>\n",
              "    </div>\n",
              "  </div>\n",
              "  "
            ]
          },
          "metadata": {},
          "execution_count": 12
        }
      ]
    },
    {
      "cell_type": "code",
      "source": [
        "import seaborn as sns"
      ],
      "metadata": {
        "id": "DXK5EDPieejs"
      },
      "execution_count": 14,
      "outputs": []
    },
    {
      "cell_type": "code",
      "source": [
        "# create grouped boxplot \n",
        "sns.boxplot(x = d1['Group'],\n",
        "            y = d1['Midterm'], hue = None, order = [\"G1\",\"G2\",\"G3\",\"G4\",\"G5\",\"A\"], notch = True)"
      ],
      "metadata": {
        "id": "sG3ZOVhTexRz",
        "outputId": "13c43c88-59ec-4b10-d337-ccef0f18cffd",
        "colab": {
          "base_uri": "https://localhost:8080/",
          "height": 297
        }
      },
      "execution_count": 22,
      "outputs": [
        {
          "output_type": "execute_result",
          "data": {
            "text/plain": [
              "<matplotlib.axes._subplots.AxesSubplot at 0x7f8916bb8d90>"
            ]
          },
          "metadata": {},
          "execution_count": 22
        },
        {
          "output_type": "display_data",
          "data": {
            "text/plain": [
              "<Figure size 432x288 with 1 Axes>"
            ],
            "image/png": "[encoded data removed]"
          },
          "metadata": {
            "needs_background": "light"
          }
        }
      ]
    },
    {
      "cell_type": "code",
      "source": [
        "# create grouped boxplot \n",
        "sns.boxplot(x = d1['Group'],\n",
        "            y = d1['Midterm'], hue = None, order = [\"G1\",\"G2\",\"G3\",\"G4\",\"G5\",\"A\"], showfliers = False)"
      ],
      "metadata": {
        "id": "dlgThEm_gZSN",
        "outputId": "8feb6efa-fe4d-40a1-87f0-4d4c094731be",
        "colab": {
          "base_uri": "https://localhost:8080/",
          "height": 297
        }
      },
      "execution_count": 23,
      "outputs": [
        {
          "output_type": "execute_result",
          "data": {
            "text/plain": [
              "<matplotlib.axes._subplots.AxesSubplot at 0x7f8916ad5a10>"
            ]
          },
          "metadata": {},
          "execution_count": 23
        },
        {
          "output_type": "display_data",
          "data": {
            "text/plain": [
              "<Figure size 432x288 with 1 Axes>"
            ],
            "image/png": "[encoded data removed]"
          },
          "metadata": {
            "needs_background": "light"
          }
        }
      ]
    }
  ]
}