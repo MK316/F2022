{
  "nbformat": 4,
  "nbformat_minor": 0,
  "metadata": {
    "colab": {
      "provenance": [],
      "include_colab_link": true
    },
    "kernelspec": {
      "name": "python3",
      "display_name": "Python 3"
    },
    "language_info": {
      "name": "python"
    }
  },
  "cells": [
    {
      "cell_type": "markdown",
      "metadata": {
        "id": "view-in-github",
        "colab_type": "text"
      },
      "source": [
        "<a href=\"https://colab.research.google.com/github/MK316/F2022/blob/main/22_EngQs_report.ipynb\" target=\"_parent\"><img src=\"https://colab.research.google.com/assets/colab-badge.svg\" alt=\"Open In Colab\"/></a>"
      ]
    },
    {
      "cell_type": "code",
      "execution_count": 1,
      "metadata": {
        "id": "lSoTr8IVVoav"
      },
      "outputs": [],
      "source": [
        "import pandas as pd"
      ]
    },
    {
      "cell_type": "code",
      "source": [
        "data = pd.read_csv(\"22Qs_final.csv\")"
      ],
      "metadata": {
        "id": "bA0lyCPrVvfw"
      },
      "execution_count": 45,
      "outputs": []
    },
    {
      "cell_type": "code",
      "source": [
        "df2 = data.groupby(['Level']).describe()"
      ],
      "metadata": {
        "id": "c7lg1SEiV6Es"
      },
      "execution_count": 47,
      "outputs": []
    },
    {
      "cell_type": "code",
      "source": [
        "df2['Wordcount']"
      ],
      "metadata": {
        "colab": {
          "base_uri": "https://localhost:8080/",
          "height": 237
        },
        "id": "NZwkoao5aEsB",
        "outputId": "6154e9dd-f21f-402b-a68a-1a64990896c9"
      },
      "execution_count": 46,
      "outputs": [
        {
          "output_type": "execute_result",
          "data": {
            "text/plain": [
              "                count        mean        std   min    25%    50%     75%  \\\n",
              "Answer_revised                                                             \n",
              "1                20.0   97.650000  45.348098  31.0  62.00   91.5  131.00   \n",
              "2                21.0  103.761905  42.694150  36.0  66.00  103.0  144.00   \n",
              "3                19.0  107.736842  53.466336  29.0  70.50  106.0  136.50   \n",
              "4                20.0  117.500000  53.845295  33.0  82.25  106.5  162.50   \n",
              "5                20.0  108.450000  40.138543  60.0  75.50  105.5  129.25   \n",
              "\n",
              "                  max  \n",
              "Answer_revised         \n",
              "1               197.0  \n",
              "2               182.0  \n",
              "3               231.0  \n",
              "4               199.0  \n",
              "5               216.0  "
            ],
            "text/html": [
              "\n",
              "  <div id=\"df-e8c0ad9e-4e6d-4881-8e5f-5821072f9acc\">\n",
              "    <div class=\"colab-df-container\">\n",
              "      <div>\n",
              "<style scoped>\n",
              "    .dataframe tbody tr th:only-of-type {\n",
              "        vertical-align: middle;\n",
              "    }\n",
              "\n",
              "    .dataframe tbody tr th {\n",
              "        vertical-align: top;\n",
              "    }\n",
              "\n",
              "    .dataframe thead th {\n",
              "        text-align: right;\n",
              "    }\n",
              "</style>\n",
              "<table border=\"1\" class=\"dataframe\">\n",
              "  <thead>\n",
              "    <tr style=\"text-align: right;\">\n",
              "      <th></th>\n",
              "      <th>count</th>\n",
              "      <th>mean</th>\n",
              "      <th>std</th>\n",
              "      <th>min</th>\n",
              "      <th>25%</th>\n",
              "      <th>50%</th>\n",
              "      <th>75%</th>\n",
              "      <th>max</th>\n",
              "    </tr>\n",
              "    <tr>\n",
              "      <th>Answer_revised</th>\n",
              "      <th></th>\n",
              "      <th></th>\n",
              "      <th></th>\n",
              "      <th></th>\n",
              "      <th></th>\n",
              "      <th></th>\n",
              "      <th></th>\n",
              "      <th></th>\n",
              "    </tr>\n",
              "  </thead>\n",
              "  <tbody>\n",
              "    <tr>\n",
              "      <th>1</th>\n",
              "      <td>20.0</td>\n",
              "      <td>97.650000</td>\n",
              "      <td>45.348098</td>\n",
              "      <td>31.0</td>\n",
              "      <td>62.00</td>\n",
              "      <td>91.5</td>\n",
              "      <td>131.00</td>\n",
              "      <td>197.0</td>\n",
              "    </tr>\n",
              "    <tr>\n",
              "      <th>2</th>\n",
              "      <td>21.0</td>\n",
              "      <td>103.761905</td>\n",
              "      <td>42.694150</td>\n",
              "      <td>36.0</td>\n",
              "      <td>66.00</td>\n",
              "      <td>103.0</td>\n",
              "      <td>144.00</td>\n",
              "      <td>182.0</td>\n",
              "    </tr>\n",
              "    <tr>\n",
              "      <th>3</th>\n",
              "      <td>19.0</td>\n",
              "      <td>107.736842</td>\n",
              "      <td>53.466336</td>\n",
              "      <td>29.0</td>\n",
              "      <td>70.50</td>\n",
              "      <td>106.0</td>\n",
              "      <td>136.50</td>\n",
              "      <td>231.0</td>\n",
              "    </tr>\n",
              "    <tr>\n",
              "      <th>4</th>\n",
              "      <td>20.0</td>\n",
              "      <td>117.500000</td>\n",
              "      <td>53.845295</td>\n",
              "      <td>33.0</td>\n",
              "      <td>82.25</td>\n",
              "      <td>106.5</td>\n",
              "      <td>162.50</td>\n",
              "      <td>199.0</td>\n",
              "    </tr>\n",
              "    <tr>\n",
              "      <th>5</th>\n",
              "      <td>20.0</td>\n",
              "      <td>108.450000</td>\n",
              "      <td>40.138543</td>\n",
              "      <td>60.0</td>\n",
              "      <td>75.50</td>\n",
              "      <td>105.5</td>\n",
              "      <td>129.25</td>\n",
              "      <td>216.0</td>\n",
              "    </tr>\n",
              "  </tbody>\n",
              "</table>\n",
              "</div>\n",
              "      <button class=\"colab-df-convert\" onclick=\"convertToInteractive('df-e8c0ad9e-4e6d-4881-8e5f-5821072f9acc')\"\n",
              "              title=\"Convert this dataframe to an interactive table.\"\n",
              "              style=\"display:none;\">\n",
              "        \n",
              "  <svg xmlns=\"http://www.w3.org/2000/svg\" height=\"24px\"viewBox=\"0 0 24 24\"\n",
              "       width=\"24px\">\n",
              "    <path d=\"M0 0h24v24H0V0z\" fill=\"none\"/>\n",
              "    <path d=\"M18.56 5.44l.94 2.06.94-2.06 2.06-.94-2.06-.94-.94-2.06-.94 2.06-2.06.94zm-11 1L8.5 8.5l.94-2.06 2.06-.94-2.06-.94L8.5 2.5l-.94 2.06-2.06.94zm10 10l.94 2.06.94-2.06 2.06-.94-2.06-.94-.94-2.06-.94 2.06-2.06.94z\"/><path d=\"M17.41 7.96l-1.37-1.37c-.4-.4-.92-.59-1.43-.59-.52 0-1.04.2-1.43.59L10.3 9.45l-7.72 7.72c-.78.78-.78 2.05 0 2.83L4 21.41c.39.39.9.59 1.41.59.51 0 1.02-.2 1.41-.59l7.78-7.78 2.81-2.81c.8-.78.8-2.07 0-2.86zM5.41 20L4 18.59l7.72-7.72 1.47 1.35L5.41 20z\"/>\n",
              "  </svg>\n",
              "      </button>\n",
              "      \n",
              "  <style>\n",
              "    .colab-df-container {\n",
              "      display:flex;\n",
              "      flex-wrap:wrap;\n",
              "      gap: 12px;\n",
              "    }\n",
              "\n",
              "    .colab-df-convert {\n",
              "      background-color: #E8F0FE;\n",
              "      border: none;\n",
              "      border-radius: 50%;\n",
              "      cursor: pointer;\n",
              "      display: none;\n",
              "      fill: #1967D2;\n",
              "      height: 32px;\n",
              "      padding: 0 0 0 0;\n",
              "      width: 32px;\n",
              "    }\n",
              "\n",
              "    .colab-df-convert:hover {\n",
              "      background-color: #E2EBFA;\n",
              "      box-shadow: 0px 1px 2px rgba(60, 64, 67, 0.3), 0px 1px 3px 1px rgba(60, 64, 67, 0.15);\n",
              "      fill: #174EA6;\n",
              "    }\n",
              "\n",
              "    [theme=dark] .colab-df-convert {\n",
              "      background-color: #3B4455;\n",
              "      fill: #D2E3FC;\n",
              "    }\n",
              "\n",
              "    [theme=dark] .colab-df-convert:hover {\n",
              "      background-color: #434B5C;\n",
              "      box-shadow: 0px 1px 3px 1px rgba(0, 0, 0, 0.15);\n",
              "      filter: drop-shadow(0px 1px 2px rgba(0, 0, 0, 0.3));\n",
              "      fill: #FFFFFF;\n",
              "    }\n",
              "  </style>\n",
              "\n",
              "      <script>\n",
              "        const buttonEl =\n",
              "          document.querySelector('#df-e8c0ad9e-4e6d-4881-8e5f-5821072f9acc button.colab-df-convert');\n",
              "        buttonEl.style.display =\n",
              "          google.colab.kernel.accessAllowed ? 'block' : 'none';\n",
              "\n",
              "        async function convertToInteractive(key) {\n",
              "          const element = document.querySelector('#df-e8c0ad9e-4e6d-4881-8e5f-5821072f9acc');\n",
              "          const dataTable =\n",
              "            await google.colab.kernel.invokeFunction('convertToInteractive',\n",
              "                                                     [key], {});\n",
              "          if (!dataTable) return;\n",
              "\n",
              "          const docLinkHtml = 'Like what you see? Visit the ' +\n",
              "            '<a target=\"_blank\" href=https://colab.research.google.com/notebooks/data_table.ipynb>data table notebook</a>'\n",
              "            + ' to learn more about interactive tables.';\n",
              "          element.innerHTML = '';\n",
              "          dataTable['output_type'] = 'display_data';\n",
              "          await google.colab.output.renderOutput(dataTable, element);\n",
              "          const docLink = document.createElement('div');\n",
              "          docLink.innerHTML = docLinkHtml;\n",
              "          element.appendChild(docLink);\n",
              "        }\n",
              "      </script>\n",
              "    </div>\n",
              "  </div>\n",
              "  "
            ]
          },
          "metadata": {},
          "execution_count": 46
        }
      ]
    },
    {
      "cell_type": "code",
      "source": [
        "df2 = data.groupby(['Answer2']).describe()\n",
        "print(df2)"
      ],
      "metadata": {
        "colab": {
          "base_uri": "https://localhost:8080/"
        },
        "id": "ZylAzUs_k2fo",
        "outputId": "8414bc73-f962-49e7-bb61-98cf2f87bd94"
      },
      "execution_count": 49,
      "outputs": [
        {
          "output_type": "stream",
          "name": "stdout",
          "text": [
            "           ID                                                    Answer        \\\n",
            "        count   mean        std   min    25%   50%    75%    max  count  mean   \n",
            "Answer2                                                                         \n",
            "1        20.0  52.75  27.737254  14.0  24.00  53.5  76.25   99.0   20.0  2.20   \n",
            "2        20.0  52.95  26.729591  11.0  29.00  55.5  75.50   95.0   20.0  2.50   \n",
            "3        20.0  50.45  27.025281   4.0  34.50  44.5  73.50   93.0   20.0  3.10   \n",
            "4        20.0  48.80  36.429600   2.0  11.75  53.5  86.75  100.0   20.0  3.95   \n",
            "5        20.0  47.55  28.642028   1.0  28.50  46.5  65.25   98.0   20.0  4.50   \n",
            "\n",
            "         ... Wordcount        Unnamed: 6                               \n",
            "         ...       75%    max      count mean std min 25% 50% 75% max  \n",
            "Answer2  ...                                                           \n",
            "1        ...    131.00  197.0        0.0  NaN NaN NaN NaN NaN NaN NaN  \n",
            "2        ...    138.75  182.0        0.0  NaN NaN NaN NaN NaN NaN NaN  \n",
            "3        ...    140.50  231.0        0.0  NaN NaN NaN NaN NaN NaN NaN  \n",
            "4        ...    162.50  199.0        0.0  NaN NaN NaN NaN NaN NaN NaN  \n",
            "5        ...    129.25  216.0        0.0  NaN NaN NaN NaN NaN NaN NaN  \n",
            "\n",
            "[5 rows x 32 columns]\n"
          ]
        }
      ]
    },
    {
      "cell_type": "code",
      "source": [
        "import matplotlib.pyplot as plt"
      ],
      "metadata": {
        "id": "4oN98KESaQc_"
      },
      "execution_count": 6,
      "outputs": []
    },
    {
      "cell_type": "code",
      "source": [
        "wordcount = [150.85, 117.7, 72.0]\n",
        "levels = [\"Advanced\", 'Intermediate', 'Beginner']\n",
        "plt.bar(levels, wordcount)\n",
        "# plt.xticks(x, levels)\n",
        "\n",
        "plt.show()"
      ],
      "metadata": {
        "colab": {
          "base_uri": "https://localhost:8080/",
          "height": 265
        },
        "id": "bOfOQUl-aTdh",
        "outputId": "c142b65d-e6f1-476d-ead4-9a7fe62dfac4"
      },
      "execution_count": 7,
      "outputs": [
        {
          "output_type": "display_data",
          "data": {
            "text/plain": [
              "<Figure size 432x288 with 1 Axes>"
            ],
            "image/png": "[encoded data removed]"
          },
          "metadata": {
            "needs_background": "light"
          }
        }
      ]
    },
    {
      "cell_type": "code",
      "source": [
        "df3 = data.groupby(['Type']).describe()\n",
        "print(df3)"
      ],
      "metadata": {
        "colab": {
          "base_uri": "https://localhost:8080/"
        },
        "id": "WIqIH5bMedUh",
        "outputId": "0e2cc027-3861-444e-9706-c1453718dcf6"
      },
      "execution_count": 8,
      "outputs": [
        {
          "output_type": "stream",
          "name": "stdout",
          "text": [
            "              ID                                                      Answer  \\\n",
            "           count       mean        std   min   25%   50%   75%    max  count   \n",
            "Type                                                                           \n",
            "Grammar      9.0  51.222222  32.073267   5.0  23.0  61.0  71.0   93.0    9.0   \n",
            "Reading     75.0  50.466667  29.678609   1.0  26.5  49.0  76.5  100.0   75.0   \n",
            "Speaking     7.0  44.000000  24.000000  14.0  26.0  46.0  57.0   82.0    7.0   \n",
            "Vocabulary   9.0  55.111111  27.310458   8.0  43.0  64.0  72.0   91.0    9.0   \n",
            "\n",
            "                      ... Answer.1      Unnamed: 6                           \\\n",
            "                mean  ...      75%  max      count mean std min 25% 50% 75%   \n",
            "Type                  ...                                                     \n",
            "Grammar     2.888889  ...      4.0  5.0        0.0  NaN NaN NaN NaN NaN NaN   \n",
            "Reading     3.346667  ...      5.0  5.0        0.0  NaN NaN NaN NaN NaN NaN   \n",
            "Speaking    3.714286  ...      4.0  5.0        0.0  NaN NaN NaN NaN NaN NaN   \n",
            "Vocabulary  2.444444  ...      4.0  5.0        0.0  NaN NaN NaN NaN NaN NaN   \n",
            "\n",
            "                \n",
            "           max  \n",
            "Type            \n",
            "Grammar    NaN  \n",
            "Reading    NaN  \n",
            "Speaking   NaN  \n",
            "Vocabulary NaN  \n",
            "\n",
            "[4 rows x 40 columns]\n"
          ]
        }
      ]
    },
    {
      "cell_type": "code",
      "source": [
        "!pip install py-readability-metrics\n",
        "import nltk\n",
        "nltk.download('punkt')"
      ],
      "metadata": {
        "colab": {
          "base_uri": "https://localhost:8080/"
        },
        "id": "urDSNmmRgnps",
        "outputId": "b8062b54-94f0-4246-f982-8cb19d18be90"
      },
      "execution_count": 9,
      "outputs": [
        {
          "output_type": "stream",
          "name": "stdout",
          "text": [
            "Looking in indexes: https://pypi.org/simple, https://us-python.pkg.dev/colab-wheels/public/simple/\n",
            "Collecting py-readability-metrics\n",
            "  Downloading py_readability_metrics-1.4.5-py3-none-any.whl (26 kB)\n",
            "Requirement already satisfied: nltk in /usr/local/lib/python3.7/dist-packages (from py-readability-metrics) (3.7)\n",
            "Requirement already satisfied: joblib in /usr/local/lib/python3.7/dist-packages (from nltk->py-readability-metrics) (1.2.0)\n",
            "Requirement already satisfied: regex>=2021.8.3 in /usr/local/lib/python3.7/dist-packages (from nltk->py-readability-metrics) (2022.6.2)\n",
            "Requirement already satisfied: click in /usr/local/lib/python3.7/dist-packages (from nltk->py-readability-metrics) (7.1.2)\n",
            "Requirement already satisfied: tqdm in /usr/local/lib/python3.7/dist-packages (from nltk->py-readability-metrics) (4.64.1)\n",
            "Installing collected packages: py-readability-metrics\n",
            "Successfully installed py-readability-metrics-1.4.5\n"
          ]
        },
        {
          "output_type": "stream",
          "name": "stderr",
          "text": [
            "[nltk_data] Downloading package punkt to /root/nltk_data...\n",
            "[nltk_data]   Unzipping tokenizers/punkt.zip.\n"
          ]
        },
        {
          "output_type": "execute_result",
          "data": {
            "text/plain": [
              "True"
            ]
          },
          "metadata": {},
          "execution_count": 9
        }
      ]
    },
    {
      "cell_type": "code",
      "source": [
        "from readability import Readability"
      ],
      "metadata": {
        "id": "IqzJeif4iQhi"
      },
      "execution_count": null,
      "outputs": []
    },
    {
      "cell_type": "code",
      "source": [
        "text = \"\"\"\n",
        "When foreign learners of English first come to the British Isles, they are usually surprised, and often dismayed, to discover how little they understand of the English they hear. For one thing, people seem to speak faster than expected. Also, the English that most British or Irish speak seems to be different in many ways from the English the visitor has learned. While it is probably differences of pronunciation that will immediately strike them, learners may also notice differences of grammar and vocabulary. Their reactions to this experience will vary. They may conclude that most of the English, Welsh, Scottish, and Irish people that they hear do not ― or even cannot ― speak English correctly. In this, they would find that many native speakers agree with them. They might even be told that, since learners of English as a foreign or second language have usually studied English in a formal way, they should know better than would native speakers what is ‘correct.’\n",
        "\"\"\""
      ],
      "metadata": {
        "id": "w8ewuO3WiX6N"
      },
      "execution_count": null,
      "outputs": []
    },
    {
      "cell_type": "code",
      "source": [
        "r = Readability(text)"
      ],
      "metadata": {
        "id": "H2RvOcBSikyu"
      },
      "execution_count": null,
      "outputs": []
    },
    {
      "cell_type": "code",
      "source": [
        "print(r.flesch_kincaid())"
      ],
      "metadata": {
        "colab": {
          "base_uri": "https://localhost:8080/"
        },
        "id": "iGJAwuG2iV3x",
        "outputId": "dab3f292-1f27-4d49-843c-a3b98cbba641"
      },
      "execution_count": null,
      "outputs": [
        {
          "output_type": "stream",
          "name": "stdout",
          "text": [
            "score: 10.34083333333334, grade_level: '10'\n"
          ]
        }
      ]
    }
  ]
}