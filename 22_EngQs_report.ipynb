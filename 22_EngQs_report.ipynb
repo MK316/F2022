{
  "nbformat": 4,
  "nbformat_minor": 0,
  "metadata": {
    "colab": {
      "provenance": [],
      "authorship_tag": "ABX9TyObJ99TQqsZZkCAYZE3fEEx",
      "include_colab_link": true
    },
    "kernelspec": {
      "name": "python3",
      "display_name": "Python 3"
    },
    "language_info": {
      "name": "python"
    }
  },
  "cells": [
    {
      "cell_type": "markdown",
      "metadata": {
        "id": "view-in-github",
        "colab_type": "text"
      },
      "source": [
        "<a href=\"https://colab.research.google.com/github/MK316/F2022/blob/main/22_EngQs_report.ipynb\" target=\"_parent\"><img src=\"https://colab.research.google.com/assets/colab-badge.svg\" alt=\"Open In Colab\"/></a>"
      ]
    },
    {
      "cell_type": "code",
      "execution_count": null,
      "metadata": {
        "id": "lSoTr8IVVoav"
      },
      "outputs": [],
      "source": [
        "import pandas as pd"
      ]
    },
    {
      "cell_type": "code",
      "source": [
        "data = pd.read_csv(\"22_Qs.csv\")"
      ],
      "metadata": {
        "id": "bA0lyCPrVvfw"
      },
      "execution_count": null,
      "outputs": []
    },
    {
      "cell_type": "code",
      "source": [
        "df2 = data.groupby(['Level']).describe()"
      ],
      "metadata": {
        "id": "c7lg1SEiV6Es"
      },
      "execution_count": null,
      "outputs": []
    },
    {
      "cell_type": "code",
      "source": [
        "df2['Wordcount']"
      ],
      "metadata": {
        "colab": {
          "base_uri": "https://localhost:8080/",
          "height": 175
        },
        "id": "NZwkoao5aEsB",
        "outputId": "99f27833-ec68-4c7c-dd19-c1d2945fa831"
      },
      "execution_count": null,
      "outputs": [
        {
          "output_type": "execute_result",
          "data": {
            "text/plain": [
              "              count     mean        std   min     25%    50%     75%    max\n",
              "Level                                                                      \n",
              "Advanced       20.0  150.850  49.048070  60.0  129.50  155.5  192.25  231.0\n",
              "Beginner       40.0   72.000  26.673717  29.0   53.25   70.5   90.00  129.0\n",
              "Intermediate   40.0  117.675  34.375295  49.0   96.00  122.0  144.00  197.0"
            ],
            "text/html": [
              "\n",
              "  <div id=\"df-1c656f42-db1c-48a6-87df-4762d22b44f5\">\n",
              "    <div class=\"colab-df-container\">\n",
              "      <div>\n",
              "<style scoped>\n",
              "    .dataframe tbody tr th:only-of-type {\n",
              "        vertical-align: middle;\n",
              "    }\n",
              "\n",
              "    .dataframe tbody tr th {\n",
              "        vertical-align: top;\n",
              "    }\n",
              "\n",
              "    .dataframe thead th {\n",
              "        text-align: right;\n",
              "    }\n",
              "</style>\n",
              "<table border=\"1\" class=\"dataframe\">\n",
              "  <thead>\n",
              "    <tr style=\"text-align: right;\">\n",
              "      <th></th>\n",
              "      <th>count</th>\n",
              "      <th>mean</th>\n",
              "      <th>std</th>\n",
              "      <th>min</th>\n",
              "      <th>25%</th>\n",
              "      <th>50%</th>\n",
              "      <th>75%</th>\n",
              "      <th>max</th>\n",
              "    </tr>\n",
              "    <tr>\n",
              "      <th>Level</th>\n",
              "      <th></th>\n",
              "      <th></th>\n",
              "      <th></th>\n",
              "      <th></th>\n",
              "      <th></th>\n",
              "      <th></th>\n",
              "      <th></th>\n",
              "      <th></th>\n",
              "    </tr>\n",
              "  </thead>\n",
              "  <tbody>\n",
              "    <tr>\n",
              "      <th>Advanced</th>\n",
              "      <td>20.0</td>\n",
              "      <td>150.850</td>\n",
              "      <td>49.048070</td>\n",
              "      <td>60.0</td>\n",
              "      <td>129.50</td>\n",
              "      <td>155.5</td>\n",
              "      <td>192.25</td>\n",
              "      <td>231.0</td>\n",
              "    </tr>\n",
              "    <tr>\n",
              "      <th>Beginner</th>\n",
              "      <td>40.0</td>\n",
              "      <td>72.000</td>\n",
              "      <td>26.673717</td>\n",
              "      <td>29.0</td>\n",
              "      <td>53.25</td>\n",
              "      <td>70.5</td>\n",
              "      <td>90.00</td>\n",
              "      <td>129.0</td>\n",
              "    </tr>\n",
              "    <tr>\n",
              "      <th>Intermediate</th>\n",
              "      <td>40.0</td>\n",
              "      <td>117.675</td>\n",
              "      <td>34.375295</td>\n",
              "      <td>49.0</td>\n",
              "      <td>96.00</td>\n",
              "      <td>122.0</td>\n",
              "      <td>144.00</td>\n",
              "      <td>197.0</td>\n",
              "    </tr>\n",
              "  </tbody>\n",
              "</table>\n",
              "</div>\n",
              "      <button class=\"colab-df-convert\" onclick=\"convertToInteractive('df-1c656f42-db1c-48a6-87df-4762d22b44f5')\"\n",
              "              title=\"Convert this dataframe to an interactive table.\"\n",
              "              style=\"display:none;\">\n",
              "        \n",
              "  <svg xmlns=\"http://www.w3.org/2000/svg\" height=\"24px\"viewBox=\"0 0 24 24\"\n",
              "       width=\"24px\">\n",
              "    <path d=\"M0 0h24v24H0V0z\" fill=\"none\"/>\n",
              "    <path d=\"M18.56 5.44l.94 2.06.94-2.06 2.06-.94-2.06-.94-.94-2.06-.94 2.06-2.06.94zm-11 1L8.5 8.5l.94-2.06 2.06-.94-2.06-.94L8.5 2.5l-.94 2.06-2.06.94zm10 10l.94 2.06.94-2.06 2.06-.94-2.06-.94-.94-2.06-.94 2.06-2.06.94z\"/><path d=\"M17.41 7.96l-1.37-1.37c-.4-.4-.92-.59-1.43-.59-.52 0-1.04.2-1.43.59L10.3 9.45l-7.72 7.72c-.78.78-.78 2.05 0 2.83L4 21.41c.39.39.9.59 1.41.59.51 0 1.02-.2 1.41-.59l7.78-7.78 2.81-2.81c.8-.78.8-2.07 0-2.86zM5.41 20L4 18.59l7.72-7.72 1.47 1.35L5.41 20z\"/>\n",
              "  </svg>\n",
              "      </button>\n",
              "      \n",
              "  <style>\n",
              "    .colab-df-container {\n",
              "      display:flex;\n",
              "      flex-wrap:wrap;\n",
              "      gap: 12px;\n",
              "    }\n",
              "\n",
              "    .colab-df-convert {\n",
              "      background-color: #E8F0FE;\n",
              "      border: none;\n",
              "      border-radius: 50%;\n",
              "      cursor: pointer;\n",
              "      display: none;\n",
              "      fill: #1967D2;\n",
              "      height: 32px;\n",
              "      padding: 0 0 0 0;\n",
              "      width: 32px;\n",
              "    }\n",
              "\n",
              "    .colab-df-convert:hover {\n",
              "      background-color: #E2EBFA;\n",
              "      box-shadow: 0px 1px 2px rgba(60, 64, 67, 0.3), 0px 1px 3px 1px rgba(60, 64, 67, 0.15);\n",
              "      fill: #174EA6;\n",
              "    }\n",
              "\n",
              "    [theme=dark] .colab-df-convert {\n",
              "      background-color: #3B4455;\n",
              "      fill: #D2E3FC;\n",
              "    }\n",
              "\n",
              "    [theme=dark] .colab-df-convert:hover {\n",
              "      background-color: #434B5C;\n",
              "      box-shadow: 0px 1px 3px 1px rgba(0, 0, 0, 0.15);\n",
              "      filter: drop-shadow(0px 1px 2px rgba(0, 0, 0, 0.3));\n",
              "      fill: #FFFFFF;\n",
              "    }\n",
              "  </style>\n",
              "\n",
              "      <script>\n",
              "        const buttonEl =\n",
              "          document.querySelector('#df-1c656f42-db1c-48a6-87df-4762d22b44f5 button.colab-df-convert');\n",
              "        buttonEl.style.display =\n",
              "          google.colab.kernel.accessAllowed ? 'block' : 'none';\n",
              "\n",
              "        async function convertToInteractive(key) {\n",
              "          const element = document.querySelector('#df-1c656f42-db1c-48a6-87df-4762d22b44f5');\n",
              "          const dataTable =\n",
              "            await google.colab.kernel.invokeFunction('convertToInteractive',\n",
              "                                                     [key], {});\n",
              "          if (!dataTable) return;\n",
              "\n",
              "          const docLinkHtml = 'Like what you see? Visit the ' +\n",
              "            '<a target=\"_blank\" href=https://colab.research.google.com/notebooks/data_table.ipynb>data table notebook</a>'\n",
              "            + ' to learn more about interactive tables.';\n",
              "          element.innerHTML = '';\n",
              "          dataTable['output_type'] = 'display_data';\n",
              "          await google.colab.output.renderOutput(dataTable, element);\n",
              "          const docLink = document.createElement('div');\n",
              "          docLink.innerHTML = docLinkHtml;\n",
              "          element.appendChild(docLink);\n",
              "        }\n",
              "      </script>\n",
              "    </div>\n",
              "  </div>\n",
              "  "
            ]
          },
          "metadata": {},
          "execution_count": 14
        }
      ]
    },
    {
      "cell_type": "code",
      "source": [
        "df2 = data.groupby(['Answer']).describe()\n",
        "print(df2)"
      ],
      "metadata": {
        "colab": {
          "base_uri": "https://localhost:8080/"
        },
        "id": "ZylAzUs_k2fo",
        "outputId": "1a9a55d7-ac11-47ee-9e0b-7a1877441f6c"
      },
      "execution_count": null,
      "outputs": [
        {
          "output_type": "stream",
          "name": "stdout",
          "text": [
            "          ID                                                        Wordcount  \\\n",
            "       count       mean        std   min    25%   50%    75%    max     count   \n",
            "Answer                                                                          \n",
            "1       12.0  55.750000  27.896318  16.0  36.00  57.5  75.00   99.0      12.0   \n",
            "2       17.0  55.058824  26.763946  12.0  26.00  64.0  74.00   95.0      17.0   \n",
            "3       25.0  48.480000  26.544177   4.0  29.00  42.0  71.00   93.0      25.0   \n",
            "4       26.0  49.692308  33.951459   2.0  14.25  51.0  79.25  100.0      26.0   \n",
            "5       20.0  47.050000  29.500178   1.0  24.50  44.0  70.50   98.0      20.0   \n",
            "\n",
            "                                                                \n",
            "              mean        std   min   25%    50%    75%    max  \n",
            "Answer                                                          \n",
            "1       104.500000  50.937573  31.0  69.5   89.0  154.5  197.0  \n",
            "2        94.941176  39.302466  36.0  66.0   88.0  106.0  182.0  \n",
            "3       106.240000  49.721960  29.0  71.0  106.0  134.0  231.0  \n",
            "4       110.961538  51.112801  33.0  57.5  113.0  147.0  195.0  \n",
            "5       109.750000  40.086584  60.0  77.5  105.5  132.5  216.0  \n"
          ]
        }
      ]
    },
    {
      "cell_type": "code",
      "source": [
        "import matplotlib.pyplot as plt"
      ],
      "metadata": {
        "id": "4oN98KESaQc_"
      },
      "execution_count": null,
      "outputs": []
    },
    {
      "cell_type": "code",
      "source": [
        "wordcount = [150.85, 117.7, 72.0]\n",
        "levels = [\"Advanced\", 'Intermediate', 'Beginner']\n",
        "plt.bar(levels, wordcount)\n",
        "# plt.xticks(x, levels)\n",
        "\n",
        "plt.show()"
      ],
      "metadata": {
        "colab": {
          "base_uri": "https://localhost:8080/",
          "height": 265
        },
        "id": "bOfOQUl-aTdh",
        "outputId": "e801e81c-bda9-46a9-d46b-2534fddd70c7"
      },
      "execution_count": null,
      "outputs": [
        {
          "output_type": "display_data",
          "data": {
            "text/plain": [
              "<Figure size 432x288 with 1 Axes>"
            ],
            "image/png": "[encoded data removed]"
          },
          "metadata": {
            "needs_background": "light"
          }
        }
      ]
    },
    {
      "cell_type": "code",
      "source": [
        "df3 = data.groupby(['Type']).describe()\n",
        "print(df3)"
      ],
      "metadata": {
        "colab": {
          "base_uri": "https://localhost:8080/"
        },
        "id": "WIqIH5bMedUh",
        "outputId": "b35fc391-8a39-4968-bc68-38e69c5addb7"
      },
      "execution_count": null,
      "outputs": [
        {
          "output_type": "stream",
          "name": "stdout",
          "text": [
            "              ID                                                      Answer  \\\n",
            "           count       mean        std   min   25%   50%   75%    max  count   \n",
            "Type                                                                           \n",
            "Grammar      9.0  51.222222  32.073267   5.0  23.0  61.0  71.0   93.0    9.0   \n",
            "Reading     75.0  50.466667  29.678609   1.0  26.5  49.0  76.5  100.0   75.0   \n",
            "Speaking     7.0  44.000000  24.000000  14.0  26.0  46.0  57.0   82.0    7.0   \n",
            "Vocabulary   9.0  55.111111  27.310458   8.0  43.0  64.0  72.0   91.0    9.0   \n",
            "\n",
            "                      ...           Wordcount                               \\\n",
            "                mean  ...  75%  max     count        mean        std   min   \n",
            "Type                  ...                                                    \n",
            "Grammar     2.888889  ...  3.0  5.0       9.0   62.444444  38.134994  29.0   \n",
            "Reading     3.346667  ...  4.0  5.0      75.0  118.320000  43.441218  43.0   \n",
            "Speaking    3.714286  ...  4.0  5.0       7.0   63.285714  13.792683  45.0   \n",
            "Vocabulary  2.444444  ...  4.0  5.0       9.0   80.555556  38.704364  31.0   \n",
            "\n",
            "                                       \n",
            "             25%    50%    75%    max  \n",
            "Type                                   \n",
            "Grammar     34.0   57.0   69.0  144.0  \n",
            "Reading     85.5  114.0  146.5  231.0  \n",
            "Speaking    51.0   71.0   73.0   79.0  \n",
            "Vocabulary  62.0   66.0   91.0  154.0  \n",
            "\n",
            "[4 rows x 24 columns]\n"
          ]
        }
      ]
    },
    {
      "cell_type": "code",
      "source": [
        "!pip install py-readability-metrics\n",
        "import nltk\n",
        "nltk.download('punkt')"
      ],
      "metadata": {
        "colab": {
          "base_uri": "https://localhost:8080/"
        },
        "id": "urDSNmmRgnps",
        "outputId": "801ecacb-99f8-498d-c617-b22fcd39794a"
      },
      "execution_count": null,
      "outputs": [
        {
          "output_type": "stream",
          "name": "stdout",
          "text": [
            "Looking in indexes: https://pypi.org/simple, https://us-python.pkg.dev/colab-wheels/public/simple/\n",
            "Requirement already satisfied: py-readability-metrics in /usr/local/lib/python3.7/dist-packages (1.4.5)\n",
            "Requirement already satisfied: nltk in /usr/local/lib/python3.7/dist-packages (from py-readability-metrics) (3.7)\n",
            "Requirement already satisfied: click in /usr/local/lib/python3.7/dist-packages (from nltk->py-readability-metrics) (7.1.2)\n",
            "Requirement already satisfied: joblib in /usr/local/lib/python3.7/dist-packages (from nltk->py-readability-metrics) (1.2.0)\n",
            "Requirement already satisfied: tqdm in /usr/local/lib/python3.7/dist-packages (from nltk->py-readability-metrics) (4.64.1)\n",
            "Requirement already satisfied: regex>=2021.8.3 in /usr/local/lib/python3.7/dist-packages (from nltk->py-readability-metrics) (2022.6.2)\n"
          ]
        },
        {
          "output_type": "stream",
          "name": "stderr",
          "text": [
            "[nltk_data] Downloading package punkt to /root/nltk_data...\n",
            "[nltk_data]   Unzipping tokenizers/punkt.zip.\n"
          ]
        },
        {
          "output_type": "execute_result",
          "data": {
            "text/plain": [
              "True"
            ]
          },
          "metadata": {},
          "execution_count": 32
        }
      ]
    },
    {
      "cell_type": "code",
      "source": [
        "from readability import Readability"
      ],
      "metadata": {
        "id": "IqzJeif4iQhi"
      },
      "execution_count": null,
      "outputs": []
    },
    {
      "cell_type": "code",
      "source": [
        "text = \"\"\"\n",
        "When foreign learners of English first come to the British Isles, they are usually surprised, and often dismayed, to discover how little they understand of the English they hear. For one thing, people seem to speak faster than expected. Also, the English that most British or Irish speak seems to be different in many ways from the English the visitor has learned. While it is probably differences of pronunciation that will immediately strike them, learners may also notice differences of grammar and vocabulary. Their reactions to this experience will vary. They may conclude that most of the English, Welsh, Scottish, and Irish people that they hear do not ― or even cannot ― speak English correctly. In this, they would find that many native speakers agree with them. They might even be told that, since learners of English as a foreign or second language have usually studied English in a formal way, they should know better than would native speakers what is ‘correct.’\n",
        "\"\"\""
      ],
      "metadata": {
        "id": "w8ewuO3WiX6N"
      },
      "execution_count": null,
      "outputs": []
    },
    {
      "cell_type": "code",
      "source": [
        "r = Readability(text)"
      ],
      "metadata": {
        "id": "H2RvOcBSikyu"
      },
      "execution_count": null,
      "outputs": []
    },
    {
      "cell_type": "code",
      "source": [
        "print(r.flesch_kincaid())"
      ],
      "metadata": {
        "colab": {
          "base_uri": "https://localhost:8080/"
        },
        "id": "iGJAwuG2iV3x",
        "outputId": "dab3f292-1f27-4d49-843c-a3b98cbba641"
      },
      "execution_count": null,
      "outputs": [
        {
          "output_type": "stream",
          "name": "stdout",
          "text": [
            "score: 10.34083333333334, grade_level: '10'\n"
          ]
        }
      ]
    }
  ]
}